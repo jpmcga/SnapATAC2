version https://git-lfs.github.com/spec/v1
oid sha256:0fa0fc8bf8f477fd625865b9d44d98b0e161fe3fd47fd317db3bd48ca10f6693
size 4305238
